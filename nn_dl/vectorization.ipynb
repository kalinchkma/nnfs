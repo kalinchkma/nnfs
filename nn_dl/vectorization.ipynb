{
 "cells": [
  {
   "cell_type": "code",
   "execution_count": 1,
   "id": "40542342-7d7b-44f9-a982-d1ccf353d0d9",
   "metadata": {},
   "outputs": [],
   "source": [
    "import numpy as np"
   ]
  },
  {
   "cell_type": "code",
   "execution_count": 8,
   "id": "075912a4-2f34-4e62-a8c8-1b485a26d75c",
   "metadata": {},
   "outputs": [
    {
     "name": "stdout",
     "output_type": "stream",
     "text": [
      "249648.9050217953\n",
      "vectorized version: 0.9891986846923828 ms\n",
      "249648.90502179082\n",
      "For loop version: 169.14987564086914 ms\n"
     ]
    }
   ],
   "source": [
    "import time \n",
    "\n",
    "n = 1000000\n",
    "\n",
    "a = np.random.rand(n)\n",
    "b = np.random.rand(n)\n",
    "\n",
    "start = time.time()\n",
    "c = np.dot(a, b)\n",
    "end = time.time()\n",
    "\n",
    "print(c)\n",
    "print(f\"vectorized version: {str(1000*(end-start))} ms\")\n",
    "\n",
    "c = 0 \n",
    "start = time.time()\n",
    "for i in range(n):\n",
    "    c += a[i]*b[i]\n",
    "end = time.time()\n",
    "print(c)\n",
    "print(f\"For loop version: {str(1000*(end-start))} ms\")\n"
   ]
  },
  {
   "cell_type": "markdown",
   "id": "448fec5c-e778-47d0-90a1-0b4f7dc4c1b7",
   "metadata": {},
   "source": [
    "## Vectorize the logistic regression"
   ]
  },
  {
   "cell_type": "code",
   "execution_count": null,
   "id": "9d5dab7f-288f-40e2-a916-6ebcd35a9a3f",
   "metadata": {},
   "outputs": [],
   "source": [
    "x = "
   ]
  }
 ],
 "metadata": {
  "kernelspec": {
   "display_name": "Python 3 (ipykernel)",
   "language": "python",
   "name": "python3"
  },
  "language_info": {
   "codemirror_mode": {
    "name": "ipython",
    "version": 3
   },
   "file_extension": ".py",
   "mimetype": "text/x-python",
   "name": "python",
   "nbconvert_exporter": "python",
   "pygments_lexer": "ipython3",
   "version": "3.12.11"
  }
 },
 "nbformat": 4,
 "nbformat_minor": 5
}
