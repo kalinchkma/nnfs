{
 "cells": [
  {
   "cell_type": "code",
   "execution_count": 1,
   "id": "40542342-7d7b-44f9-a982-d1ccf353d0d9",
   "metadata": {},
   "outputs": [],
   "source": [
    "import numpy as np"
   ]
  },
  {
   "cell_type": "code",
   "execution_count": 2,
   "id": "075912a4-2f34-4e62-a8c8-1b485a26d75c",
   "metadata": {},
   "outputs": [
    {
     "name": "stdout",
     "output_type": "stream",
     "text": [
      "250224.6135837063\n",
      "vectorized version: 0.5328655242919922 ms\n",
      "250224.61358370245\n",
      "For loop version: 138.37623596191406 ms\n"
     ]
    }
   ],
   "source": [
    "import time \n",
    "\n",
    "n = 1000000\n",
    "\n",
    "a = np.random.rand(n)\n",
    "b = np.random.rand(n)\n",
    "\n",
    "start = time.time()\n",
    "c = np.dot(a, b)\n",
    "end = time.time()\n",
    "\n",
    "print(c)\n",
    "print(f\"vectorized version: {str(1000*(end-start))} ms\")\n",
    "\n",
    "c = 0 \n",
    "start = time.time()\n",
    "for i in range(n):\n",
    "    c += a[i]*b[i]\n",
    "end = time.time()\n",
    "print(c)\n",
    "print(f\"For loop version: {str(1000*(end-start))} ms\")\n"
   ]
  },
  {
   "cell_type": "markdown",
   "id": "448fec5c-e778-47d0-90a1-0b4f7dc4c1b7",
   "metadata": {},
   "source": [
    "## Vectorize the logistic regression"
   ]
  },
  {
   "cell_type": "code",
   "execution_count": 11,
   "id": "9d5dab7f-288f-40e2-a916-6ebcd35a9a3f",
   "metadata": {},
   "outputs": [
    {
     "name": "stdout",
     "output_type": "stream",
     "text": [
      "-0.7556033399264304 -14.475020812521059 -28.950041625042118 -14.475020812521059\n"
     ]
    }
   ],
   "source": [
    "\n",
    "# Simple gradient logistic regression\n",
    "x = np.array([1, 2])\n",
    "y = np.array([10, 20])\n",
    "w = np.array([0, 0])\n",
    "b = 0.1\n",
    "\n",
    "j = 0\n",
    "dw1 = 0\n",
    "dw2 = 0\n",
    "db = 0\n",
    "\n",
    "for i in range(len(x)):\n",
    "    z = w[i].T * x[i] + b\n",
    "    # Compute actication function\n",
    "    a = 1/(1+np.exp(-z))\n",
    "    # compute loss\n",
    "    j += -(y[i]*np.log(a) + (1-y[i])*np.log(1-a))\n",
    "    # Calculate gradient\n",
    "    dz = a - y[i]\n",
    "    dw1 += x[0] * dz\n",
    "    dw2 += x[1] * dz\n",
    "    db += dz\n",
    "\n",
    "j /= len(x)\n",
    "dw1 /= len(x)\n",
    "dw2 /= len(x)\n",
    "db /= len(x)\n",
    "\n",
    "print(j, dw1, dw2, db)"
   ]
  },
  {
   "cell_type": "code",
   "execution_count": null,
   "id": "76459e6f-62c2-4c0b-9215-4bb23c5c5170",
   "metadata": {},
   "outputs": [],
   "source": []
  }
 ],
 "metadata": {
  "kernelspec": {
   "display_name": "Python 3 (ipykernel)",
   "language": "python",
   "name": "python3"
  },
  "language_info": {
   "codemirror_mode": {
    "name": "ipython",
    "version": 3
   },
   "file_extension": ".py",
   "mimetype": "text/x-python",
   "name": "python",
   "nbconvert_exporter": "python",
   "pygments_lexer": "ipython3",
   "version": "3.12.11"
  }
 },
 "nbformat": 4,
 "nbformat_minor": 5
}
