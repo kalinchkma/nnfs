{
 "cells": [
  {
   "cell_type": "markdown",
   "id": "7b49705f-0149-4b10-92ee-a4992de391cb",
   "metadata": {},
   "source": [
    "# Numpy Re-Master"
   ]
  },
  {
   "cell_type": "code",
   "execution_count": 1,
   "id": "e9d31684-43e2-4613-bf0e-43335a96c28c",
   "metadata": {},
   "outputs": [],
   "source": [
    "import numpy as np\n",
    "import matplotlib.pyplot as plt"
   ]
  },
  {
   "cell_type": "code",
   "execution_count": 2,
   "id": "f5aeb199-f609-4c2e-b86e-9e54afbda525",
   "metadata": {},
   "outputs": [
    {
     "data": {
      "text/plain": [
       "array([1, 2, 3, 4])"
      ]
     },
     "execution_count": 2,
     "metadata": {},
     "output_type": "execute_result"
    }
   ],
   "source": [
    "# Creating simple array\n",
    "arr = np.array([1, 2, 3, 4])\n",
    "arr"
   ]
  },
  {
   "cell_type": "code",
   "execution_count": 3,
   "id": "85a29682-eab5-4421-9c4c-c967babb0851",
   "metadata": {},
   "outputs": [
    {
     "name": "stdout",
     "output_type": "stream",
     "text": [
      "2.3.0\n"
     ]
    }
   ],
   "source": [
    "print(np.__version__) # Check np version"
   ]
  },
  {
   "cell_type": "code",
   "execution_count": 4,
   "id": "fec9cc68-00c3-4776-b8e9-ac9b805f44b3",
   "metadata": {},
   "outputs": [
    {
     "name": "stdout",
     "output_type": "stream",
     "text": [
      "42\n",
      "<class 'numpy.ndarray'>\n"
     ]
    }
   ],
   "source": [
    "arr = np.array(42)\n",
    "print(arr)\n",
    "print(type(arr))"
   ]
  },
  {
   "cell_type": "markdown",
   "id": "29b36eba-de94-4e6b-9aca-fc590834fc3b",
   "metadata": {},
   "source": [
    "### Check dimensions"
   ]
  },
  {
   "cell_type": "code",
   "execution_count": 5,
   "id": "523f7c24-e378-4397-9ee7-0f6d314535ee",
   "metadata": {},
   "outputs": [
    {
     "name": "stdout",
     "output_type": "stream",
     "text": [
      "0\n"
     ]
    }
   ],
   "source": [
    "print(arr.ndim) # ndim to check dimensions"
   ]
  },
  {
   "cell_type": "code",
   "execution_count": 6,
   "id": "24ceb138-ef54-4e8c-b413-4dc5e2fddf53",
   "metadata": {},
   "outputs": [
    {
     "name": "stdout",
     "output_type": "stream",
     "text": [
      "2\n"
     ]
    }
   ],
   "source": [
    "arr = np.array([[23, 513], [2, 4], [65, 64]])\n",
    "print(arr.ndim)"
   ]
  },
  {
   "cell_type": "code",
   "execution_count": 7,
   "id": "101f0911-56ba-4566-9d8f-b0e86fb60b57",
   "metadata": {},
   "outputs": [
    {
     "name": "stdout",
     "output_type": "stream",
     "text": [
      "[[[[ 5 12 54  1]]]] 4\n"
     ]
    }
   ],
   "source": [
    "arr = np.array([5, 12, 54, 1], ndmin=4)\n",
    "print(arr, arr.ndim)"
   ]
  },
  {
   "cell_type": "markdown",
   "id": "f1b7de8d-7d32-46bc-903f-b4bb4a1d367b",
   "metadata": {},
   "source": [
    "## Indexing"
   ]
  },
  {
   "cell_type": "code",
   "execution_count": 8,
   "id": "ea7debdc-c8a3-43b1-b9db-052917b91a15",
   "metadata": {},
   "outputs": [
    {
     "name": "stdout",
     "output_type": "stream",
     "text": [
      "[1 2 3]\n"
     ]
    }
   ],
   "source": [
    "arr = np.array([1, 2, 3, 4])\n",
    "print(arr[:-1])"
   ]
  },
  {
   "cell_type": "code",
   "execution_count": 9,
   "id": "666a0872-73a8-4a13-ab24-3fbfa7f2eafa",
   "metadata": {},
   "outputs": [
    {
     "name": "stdout",
     "output_type": "stream",
     "text": [
      "[1 2 3 4]\n"
     ]
    }
   ],
   "source": [
    "print(arr) # Not changes"
   ]
  },
  {
   "cell_type": "code",
   "execution_count": 10,
   "id": "06c6664a-12d8-4163-a9d6-de220f1cbddf",
   "metadata": {},
   "outputs": [
    {
     "name": "stdout",
     "output_type": "stream",
     "text": [
      "[4 3 2 1]\n"
     ]
    }
   ],
   "source": [
    "print(arr[::-1])"
   ]
  },
  {
   "cell_type": "code",
   "execution_count": 11,
   "id": "913a4b9a-03a7-40b6-91ed-803d9a8a2410",
   "metadata": {},
   "outputs": [
    {
     "name": "stdout",
     "output_type": "stream",
     "text": [
      "[1 2 3 4]\n"
     ]
    }
   ],
   "source": [
    "print(arr)"
   ]
  },
  {
   "cell_type": "markdown",
   "id": "a5e2f2d9-f761-4657-8273-5fc5701fec3c",
   "metadata": {},
   "source": [
    "## Slicing\n",
    "[start:end:step]"
   ]
  },
  {
   "cell_type": "code",
   "execution_count": 12,
   "id": "4b908a08-3cd8-47b3-90c5-94fb693832f8",
   "metadata": {},
   "outputs": [
    {
     "name": "stdout",
     "output_type": "stream",
     "text": [
      "[ 0  9 18 19]\n"
     ]
    }
   ],
   "source": [
    "arr = np.array([1, 3, 5, 0, 9, 18, 19, 7])\n",
    "print(arr[3:-1])"
   ]
  },
  {
   "cell_type": "code",
   "execution_count": 13,
   "id": "c9b1a817-ea6e-428b-9698-bb6cc4e45fb2",
   "metadata": {},
   "outputs": [
    {
     "name": "stdout",
     "output_type": "stream",
     "text": [
      "[ 3  0 18]\n"
     ]
    }
   ],
   "source": [
    "print(arr[1:-1:2])"
   ]
  },
  {
   "cell_type": "code",
   "execution_count": 14,
   "id": "73a0c5f9-3b69-4194-9f45-002ccdb6cd06",
   "metadata": {},
   "outputs": [
    {
     "name": "stdout",
     "output_type": "stream",
     "text": [
      "[ 3  5  0  9 18 19]\n"
     ]
    }
   ],
   "source": [
    "print(arr[1:-1:1])"
   ]
  },
  {
   "cell_type": "markdown",
   "id": "64629a0b-2080-4831-89ce-7fe5dae66375",
   "metadata": {},
   "source": [
    "## Data type\n",
    "- i - integer\n",
    "- b - boolean\n",
    "- u - unsigned integer\n",
    "- f - float\n",
    "- c - complex float\n",
    "- m - timedelta\n",
    "- M - datetime\n",
    "- O - object\n",
    "- S - string\n",
    "- U - unicode string\n",
    "- V - fixed chunk of memory for other type ( void )"
   ]
  },
  {
   "cell_type": "code",
   "execution_count": 15,
   "id": "1c8bd2cc-204d-4fa5-89b6-0ffae8a0c63b",
   "metadata": {},
   "outputs": [
    {
     "name": "stdout",
     "output_type": "stream",
     "text": [
      "[b'1' b'2' b'4' b'5']\n"
     ]
    }
   ],
   "source": [
    "arr = np.array([1, 2, 4, 5], dtype=\"S\")\n",
    "print(arr)"
   ]
  },
  {
   "cell_type": "code",
   "execution_count": 16,
   "id": "7bf3ef47-800f-4506-a301-70f5dcd1dd1f",
   "metadata": {},
   "outputs": [
    {
     "name": "stdout",
     "output_type": "stream",
     "text": [
      "[ 4  1  5 13]\n"
     ]
    }
   ],
   "source": [
    "arr = np.array([4, 1, 5, 13], dtype=\"i4\")\n",
    "print(arr)"
   ]
  },
  {
   "cell_type": "code",
   "execution_count": 17,
   "id": "5e0c5156-f29f-4c21-b481-9ce4dc5abbe2",
   "metadata": {},
   "outputs": [
    {
     "name": "stdout",
     "output_type": "stream",
     "text": [
      "[ 4.  1.  5. 13.]\n"
     ]
    }
   ],
   "source": [
    "# Convert data dtype\n",
    "print(arr.astype('f'))"
   ]
  },
  {
   "cell_type": "code",
   "execution_count": 18,
   "id": "5b7388d3-f6f4-4825-9add-18b456abdce0",
   "metadata": {},
   "outputs": [
    {
     "name": "stdout",
     "output_type": "stream",
     "text": [
      "[b'4' b'1' b'5' b'13']\n"
     ]
    }
   ],
   "source": [
    "print(arr.astype('S'))"
   ]
  },
  {
   "cell_type": "code",
   "execution_count": 19,
   "id": "043dc470-6deb-42f4-865b-1c24a7ea45e6",
   "metadata": {},
   "outputs": [
    {
     "name": "stdout",
     "output_type": "stream",
     "text": [
      "[ True  True  True  True]\n"
     ]
    }
   ],
   "source": [
    "print(arr.astype(bool))"
   ]
  },
  {
   "cell_type": "markdown",
   "id": "39abe93a-5dcd-4503-9c91-a6191a925787",
   "metadata": {},
   "source": [
    "## Copy and View"
   ]
  },
  {
   "cell_type": "code",
   "execution_count": 20,
   "id": "e2bad341-ac41-4883-8a3a-2e00e22acee3",
   "metadata": {},
   "outputs": [
    {
     "name": "stdout",
     "output_type": "stream",
     "text": [
      "[ 5  7 19]\n",
      "[ 5 78]\n",
      "[ 5  7 19]\n"
     ]
    }
   ],
   "source": [
    "arr = np.array([5, 7, 19])\n",
    "arr2 = arr.copy() # copy array\n",
    "print(arr2)\n",
    "arr2 = np.array([5, 78])\n",
    "print(arr2)\n",
    "print(arr)"
   ]
  },
  {
   "cell_type": "code",
   "execution_count": 21,
   "id": "8f8f67f5-501b-4195-84ee-6f955195d684",
   "metadata": {},
   "outputs": [
    {
     "name": "stdout",
     "output_type": "stream",
     "text": [
      "[ 5  7 19]\n",
      "[ 5  7 19]\n",
      "[90  7 19]\n",
      "[90  7 19]\n"
     ]
    }
   ],
   "source": [
    "arr2 = arr.view() # view change the original one\n",
    "print(arr2)\n",
    "print(arr)\n",
    "arr2[0] = 90\n",
    "print(arr2)\n",
    "print(arr)\n"
   ]
  },
  {
   "cell_type": "code",
   "execution_count": 22,
   "id": "94de08c4-7f43-48b8-8a22-57848bb028ee",
   "metadata": {},
   "outputs": [
    {
     "name": "stdout",
     "output_type": "stream",
     "text": [
      "[1 2 3 4 5 6 7 8 9 0]\n",
      "[[1 2 3 4 5]\n",
      " [6 7 8 9 0]]\n"
     ]
    }
   ],
   "source": [
    "## reshape array\n",
    "arr = np.array([1, 2, 3, 4, 5, 6, 7, 8, 9, 0])\n",
    "print(arr)\n",
    "arr = arr.reshape(2, 5)\n",
    "print(arr)"
   ]
  },
  {
   "cell_type": "code",
   "execution_count": 23,
   "id": "31552f51-0bc4-43e6-b382-7f09fe9956cd",
   "metadata": {},
   "outputs": [
    {
     "name": "stdout",
     "output_type": "stream",
     "text": [
      "[[1 2 3 4 5]\n",
      " [6 7 8 9 0]]\n",
      "[1 2 3 4 5 6 7 8 9 0]\n"
     ]
    }
   ],
   "source": [
    "# Flattening array\n",
    "print(arr)\n",
    "arr = arr.reshape(-1)\n",
    "print(arr)"
   ]
  },
  {
   "cell_type": "code",
   "execution_count": 24,
   "id": "67d18550-c7ed-4e30-a196-9e3f5f817427",
   "metadata": {},
   "outputs": [
    {
     "name": "stdout",
     "output_type": "stream",
     "text": [
      "[[1 4]\n",
      " [2 5]\n",
      " [3 6]]\n"
     ]
    }
   ],
   "source": [
    "## Stack\n",
    "arr = np.array([1, 2, 3])\n",
    "arr2 = np.array([4, 5, 6])\n",
    "\n",
    "arr3 = np.stack((arr, arr2), axis=1) # stack two array\n",
    "print(arr3)"
   ]
  },
  {
   "cell_type": "code",
   "execution_count": 25,
   "id": "a13cf612-7979-43c8-8026-b2902eac0456",
   "metadata": {},
   "outputs": [
    {
     "name": "stdout",
     "output_type": "stream",
     "text": [
      "[1 2 3 4 5 6]\n"
     ]
    }
   ],
   "source": [
    "arr3 = np.hstack((arr, arr2))\n",
    "print(arr3)"
   ]
  },
  {
   "cell_type": "code",
   "execution_count": 27,
   "id": "df6509f5-a6e3-4c48-a848-ec49cdd0cae2",
   "metadata": {},
   "outputs": [
    {
     "name": "stdout",
     "output_type": "stream",
     "text": [
      "[4]\n"
     ]
    }
   ],
   "source": [
    "## Filters\n",
    "arr = np.array([4, 1])\n",
    "f = [True, False] # Filter need to be same\n",
    "print(arr[f])"
   ]
  },
  {
   "cell_type": "code",
   "execution_count": null,
   "id": "53c26db7-0a5e-45a5-abae-554272575921",
   "metadata": {},
   "outputs": [],
   "source": []
  }
 ],
 "metadata": {
  "kernelspec": {
   "display_name": "Python 3 (ipykernel)",
   "language": "python",
   "name": "python3"
  },
  "language_info": {
   "codemirror_mode": {
    "name": "ipython",
    "version": 3
   },
   "file_extension": ".py",
   "mimetype": "text/x-python",
   "name": "python",
   "nbconvert_exporter": "python",
   "pygments_lexer": "ipython3",
   "version": "3.12.11"
  }
 },
 "nbformat": 4,
 "nbformat_minor": 5
}
